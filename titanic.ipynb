import pandas as pd
import seaborn as sns
import matplotlib.pyplot as plt
from sklearn.preprocessing import LabelEncoder
# 1. titanic 결측치확인
# 2. 결측치 제거
titanic = sns.load_dataset('titanic')
titanic1 = sns.load_dataset('titanic')

# emark_town, alive, alone, who, 삭제
titanic.drop(columns=['embark_town', 'alive', 'alone', 'who', 'class'], inplace= True)

a = titanic.isnull().sum()


# titanic.embarked.value_counts().plot(kind='bar')
b= titanic.embarked.fillna('S', inplace = True)
titanic.isnull().sum()
titanic.age.median()
# titanic.age.plot(kind='hist',bins=40)

# pclass 1, sex male median
# pclass 1, sex female median
# pclass 2, sex male median
# pclass 2, sex female median
# pclass 3, sex male median
# pclass 3, sex female median

ps = pd.pivot_table(titanic, index='pclass', columns='sex', aggfunc= 'median')
c = ps.loc[1, ('age', 'male')]
titanic.loc[(titanic.pclass == 1) & (titanic.sex == 'male') & (titanic.age.isna()), 'age'] = 40
titanic.loc[(titanic.pclass == 1) & (titanic.sex == 'female') & (titanic.age.isna()), 'age'] = 35
titanic.loc[(titanic.pclass == 2) & (titanic.sex == 'male') & (titanic.age.isna()), 'age'] = 30
titanic.loc[(titanic.pclass == 2) & (titanic.sex == 'female') & (titanic.age.isna()), 'age'] = 28
titanic.loc[(titanic.pclass == 3) & (titanic.sex == 'male') & (titanic.age.isna()), 'age'] = 25
titanic.loc[(titanic.pclass == 3) & (titanic.sex == 'female') & (titanic.age.isna()), 'age'] = 21.5

# titanic['age'].plot(kind='hist', bins = 40, color = 'blue')

grouped = titanic[['pclass', 'deck', 'fare']].groupby('deck')
grouped.get_group('A').fare.min()
d = titanic.deck.isnull().sum() / len(titanic) * 100
titanic.drop(columns='deck', inplace=True)

# titanic1.embarked.fillna('N')
# titanic1.age.fillna(titanic1.age.median())
# titanic1.deck.fillna('N')

# print(titanic.isnull().sum())

sns.heatmap(titanic.corr(), cmap='coolwarm', annot=True)

pd.crosstab(titanic['pclass'], titanic['survived'], margins=False).plot(kind='bar')

titanic.drop(columns='adult_male', inplace=True)
titanic.sex.unique()
n = 0
for i in titanic.sex.unique():
    titanic.sex.replace({'i':n}, inplace=True)
    n += 1

encorder = LabelEncoder()
encorder.fit(titanic.sex)       #성별데이터를 준비
labels = encorder.transform(titanic.sex) # 성별 데이터 변환, 남자를 1, 여자를 0
b = encorder.inverse_transform([1])
encorder1 = LabelEncoder()
encorder1.fit(titanic.embarked)
labels1 = encorder1.transform(titanic.embarked)
titanic.sex = labels[:]
titanic.embarked = labels1[:]
c = titanic.info()

test = sns.load_dataset('titanic')
a = pd.get_dummies(['a','b','c','d','e','f','g'])       #onehot 인코딩(컬럼과 인덱스가 겹치는 부분에 1.) 컬럼의 양을 늘릴 수 있다.
# 1. normalize - 백분율로 (데이터 - x.min())/ (x.max() - x.min())
# 2. standardization - z-score활용, 정규분포를 
def normalization(x):
    return (x- x.min())/ (x.max()-x.min())
def z_score(x):
     return (x - x.mean()) / x.std()

b = titanic.apply(normalization)

from sklearn.preprocessing import StandardScaler
scaler = StandardScaler()
scaler.fit(titanic)
scaled = scaler.transform(titanic)
scaled[:,0].std()
titanic = titanic.apply(normalization)

plt.figure(figsize=(15,5))
sns.heatmap(titanic.corr(),annot=True, cmap='coolwarm')

# Machine Learing
x_df = titanic.drop('survived', axis =1)
y_df = titanic.survived
# 학습 데이터와 검증 데이터 분리
from sklearn.model_selection import train_test_split
x_train, x_test, y_train, y_test = train_test_split(x_df, y_df, test_size=0.2, random_state=12)
from sklearn.tree import DecisionTreeClassifier
from sklearn.ensemble import RandomForestClassifier
from sklearn.linear_model import LogisticRegression
dt_clf = DecisionTreeClassifier()
rf_clf = RandomForestClassifier()
lr_clf = LogisticRegression()

dt_clf.fit(x_train,y_train)
rf_clf.fit(x_train,y_train)
lr_clf.fit(x_train,y_train)

dt_pred = dt_clf.predict(x_test)
rf_pred = rf_clf.predict(x_test)
lr_pred = lr_clf.predict(x_test)

from sklearn.metrics import accuracy_score
print(accuracy_score(y_test,dt_pred))
print(accuracy_score(y_test,rf_pred))
print(accuracy_score(y_test,lr_pred))

